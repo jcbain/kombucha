{
 "cells": [
  {
   "cell_type": "code",
   "execution_count": 4,
   "metadata": {},
   "outputs": [],
   "source": [
    "import matplotlib.pyplot as plt\n",
    "import os\n",
    "import re\n",
    "import shutil\n",
    "import string\n",
    "import tensorflow as tf\n",
    "\n",
    "import numpy as np\n",
    "import tensorflow_datasets as tfds\n",
    "\n",
    "from tensorflow.keras import layers\n",
    "from tensorflow.keras import losses\n",
    "from tensorflow.keras import preprocessing\n",
    "from tensorflow.keras.layers.experimental.preprocessing import TextVectorization"
   ]
  },
  {
   "cell_type": "code",
   "execution_count": 5,
   "metadata": {},
   "outputs": [
    {
     "name": "stdout",
     "output_type": "stream",
     "text": [
      "2.5.0\n"
     ]
    }
   ],
   "source": [
    "print(tf.__version__)"
   ]
  },
  {
   "cell_type": "code",
   "execution_count": 6,
   "metadata": {},
   "outputs": [],
   "source": [
    "def plot_graphs(history, metric):\n",
    "  plt.plot(history.history[metric])\n",
    "  plt.plot(history.history['val_'+metric], '')\n",
    "  plt.xlabel(\"Epochs\")\n",
    "  plt.ylabel(metric)\n",
    "  plt.legend([metric, 'val_'+metric])\n"
   ]
  },
  {
   "cell_type": "code",
   "execution_count": 7,
   "metadata": {},
   "outputs": [
    {
     "name": "stdout",
     "output_type": "stream",
     "text": [
      "\u001b[1mDownloading and preparing dataset 80.23 MiB (download: 80.23 MiB, generated: Unknown size, total: 80.23 MiB) to /root/tensorflow_datasets/imdb_reviews/plain_text/1.0.0...\u001b[0m\n"
     ]
    },
    {
     "data": {
      "application/vnd.jupyter.widget-view+json": {
       "model_id": "29492ad4e8cf411cad9447513080b5fc",
       "version_major": 2,
       "version_minor": 0
      },
      "text/plain": [
       "Dl Completed...: 0 url [00:00, ? url/s]"
      ]
     },
     "metadata": {},
     "output_type": "display_data"
    },
    {
     "data": {
      "application/vnd.jupyter.widget-view+json": {
       "model_id": "f49c60acbd9044c9a3d205bb9d3f60e3",
       "version_major": 2,
       "version_minor": 0
      },
      "text/plain": [
       "Dl Size...: 0 MiB [00:00, ? MiB/s]"
      ]
     },
     "metadata": {},
     "output_type": "display_data"
    },
    {
     "data": {
      "application/vnd.jupyter.widget-view+json": {
       "model_id": "",
       "version_major": 2,
       "version_minor": 0
      },
      "text/plain": [
       "Generating splits...:   0%|          | 0/3 [00:00<?, ? splits/s]"
      ]
     },
     "metadata": {},
     "output_type": "display_data"
    },
    {
     "data": {
      "application/vnd.jupyter.widget-view+json": {
       "model_id": "",
       "version_major": 2,
       "version_minor": 0
      },
      "text/plain": [
       "Generating train examples...:   0%|          | 0/25000 [00:00<?, ? examples/s]"
      ]
     },
     "metadata": {},
     "output_type": "display_data"
    },
    {
     "data": {
      "application/vnd.jupyter.widget-view+json": {
       "model_id": "",
       "version_major": 2,
       "version_minor": 0
      },
      "text/plain": [
       "Shuffling imdb_reviews-train.tfrecord...:   0%|          | 0/25000 [00:00<?, ? examples/s]"
      ]
     },
     "metadata": {},
     "output_type": "display_data"
    },
    {
     "data": {
      "application/vnd.jupyter.widget-view+json": {
       "model_id": "",
       "version_major": 2,
       "version_minor": 0
      },
      "text/plain": [
       "Generating test examples...:   0%|          | 0/25000 [00:00<?, ? examples/s]"
      ]
     },
     "metadata": {},
     "output_type": "display_data"
    },
    {
     "data": {
      "application/vnd.jupyter.widget-view+json": {
       "model_id": "",
       "version_major": 2,
       "version_minor": 0
      },
      "text/plain": [
       "Shuffling imdb_reviews-test.tfrecord...:   0%|          | 0/25000 [00:00<?, ? examples/s]"
      ]
     },
     "metadata": {},
     "output_type": "display_data"
    },
    {
     "data": {
      "application/vnd.jupyter.widget-view+json": {
       "model_id": "",
       "version_major": 2,
       "version_minor": 0
      },
      "text/plain": [
       "Generating unsupervised examples...:   0%|          | 0/50000 [00:00<?, ? examples/s]"
      ]
     },
     "metadata": {},
     "output_type": "display_data"
    },
    {
     "data": {
      "application/vnd.jupyter.widget-view+json": {
       "model_id": "",
       "version_major": 2,
       "version_minor": 0
      },
      "text/plain": [
       "Shuffling imdb_reviews-unsupervised.tfrecord...:   0%|          | 0/50000 [00:00<?, ? examples/s]"
      ]
     },
     "metadata": {},
     "output_type": "display_data"
    },
    {
     "name": "stdout",
     "output_type": "stream",
     "text": [
      "\u001b[1mDataset imdb_reviews downloaded and prepared to /root/tensorflow_datasets/imdb_reviews/plain_text/1.0.0. Subsequent calls will reuse this data.\u001b[0m\n"
     ]
    },
    {
     "data": {
      "text/plain": [
       "(TensorSpec(shape=(), dtype=tf.string, name=None),\n",
       " TensorSpec(shape=(), dtype=tf.int64, name=None))"
      ]
     },
     "execution_count": 7,
     "metadata": {},
     "output_type": "execute_result"
    }
   ],
   "source": [
    "dataset, info = tfds.load('imdb_reviews', with_info=True,\n",
    "                          as_supervised=True)\n",
    "train_dataset, test_dataset = dataset['train'], dataset['test']\n",
    "\n",
    "train_dataset.element_spec"
   ]
  },
  {
   "cell_type": "code",
   "execution_count": 8,
   "metadata": {},
   "outputs": [
    {
     "name": "stdout",
     "output_type": "stream",
     "text": [
      "text:  b\"This was an absolutely terrible movie. Don't be lured in by Christopher Walken or Michael Ironside. Both are great actors, but this must simply be their worst role in history. Even their great acting could not redeem this movie's ridiculous storyline. This movie is an early nineties US propaganda piece. The most pathetic scenes were those when the Columbian rebels were making their cases for revolutions. Maria Conchita Alonso appeared phony, and her pseudo-love affair with Walken was nothing but a pathetic emotional plug in a movie that was devoid of any real meaning. I am disappointed that there are movies like this, ruining actor's like Christopher Walken's good name. I could barely sit through it.\"\n",
      "label:  0\n"
     ]
    }
   ],
   "source": [
    "for example, label in train_dataset.take(1):\n",
    "  print('text: ', example.numpy())\n",
    "  print('label: ', label.numpy())\n"
   ]
  },
  {
   "cell_type": "code",
   "execution_count": 9,
   "metadata": {},
   "outputs": [],
   "source": [
    "BUFFER_SIZE = 10000\n",
    "BATCH_SIZE = 64\n"
   ]
  },
  {
   "cell_type": "code",
   "execution_count": 10,
   "metadata": {},
   "outputs": [],
   "source": [
    "train_dataset = train_dataset.shuffle(BUFFER_SIZE).batch(BATCH_SIZE).prefetch(tf.data.AUTOTUNE)\n",
    "test_dataset = test_dataset.batch(BATCH_SIZE).prefetch(tf.data.AUTOTUNE)\n"
   ]
  },
  {
   "cell_type": "code",
   "execution_count": 12,
   "metadata": {},
   "outputs": [
    {
     "name": "stdout",
     "output_type": "stream",
     "text": [
      "texts:  [b'Two things haunt you throughout L\\'intrus (The Intruder): who\\'s the intruder and is it a movie or a dream you\\'re watching? The ending is so shocking that for a while you\\'re at a loss for an answer to either of those questions. The intruder pops up as different characters, different men in different circumstances who don\\'t belong in the scene, so they\\'re expelled from it, kindly or brutally, but often without emotional involvement. The main character, Louis, is a contemptible man. He\\'s got rough ways, some mean job and no heart. He needs one and goes after it. He has a heart transplanted and afterwards decides to start a new life. Can this man succeed in his quest for redemption? A guy like that could cut your throat at the drop of a hat. You know it but Claire Denis doesn\\'t encourage you to judge him. Occasionally, there\\'s a young Russian woman -a beautiful girl who seems to inhabit someplace between heaven and earth - who does judge him. She may even punish him. But not Denis. There\\'s the character played by Beatrice Dalle who wants no business with him: don\\'t touch me, she says. But Denis lets this man be himself, films him in his self-absorbed quest. I don\\'t know if what she films is the heart or the mind but it isn\\'t the traditional plot basics. Whatever she films, you get it in the end. You know who\\'s \"the\" intruder, you know why, more or less, and some scenes come back to your mind with their full meaning. But was it a movie or a dream?'\n",
      " b'When a movie of a book seems pointless and incomprehensible, the cause can invariably be found in the book: either it was pointless to start with, or the point is one not easily conveyed to film, or the movie missed the point, which is the most frequent of these results, and the easiest to happen, especially when the point is one not easily defined. The book \"Morvern Callar\" has a point; every reader of the book must have felt this, and felt as if he had gotten it; but I suspect most of them could not state it in words. I\\'m not sure I can, myself, but perhaps it comes to this, or something like it: Things come, things go, such is life, but we carry on; or at any rate some of us--people like Morvern--do. No doubt a more erudite critic could construct a more adequate definition. But the important fact is that there is a point--possibly the sum of the entire story is the point--and that this would have been the main thing to keep in view, and to carry over, in adapting the story to film. The maker of this film evidently missed the point, and doesn\\'t substitute one of her own; and so the film is about nothing.<br /><br />This is not the usual complaint of a book-lover that his favorite text has been violated. The merit of the book is something I conceded grudgingly: in reading it I found it a bloody nuisance, and an occasion for kicking the author in the pants and getting him in to finish the job properly. The narrative is supposed to be the work of the half-educated Morvern, but that illusion is constantly dispelled by a dozen different types of literary effect, as if the author were poking at her with his pen; there are inconsistencies of style and tone, as if different sections had been composed at different times; and any conclusions I could reach about Morvern had to remain tentative because it was uncertain which implications the author intended and which he did not: for instance, despite Morvern\\'s own self-characterization as a raver, am I wrong that in the end she remains essentially a working-class Scots girl, and beneath her wrapping of music downloads not so different from those of generations past? In any case, despite my irritation at the author, I couldn\\'t deny that his book stuck with me; and what I couldn\\'t get out of my head was his character\\'s attitude, her angle on the world, which was almost as vivid as a Goya portrait. Morvern is the kind of person who\\'s always encountering situations at once rather comic and rather horrible; occasionally she invites them but more often they land on her, like flies, so that much of her life consists of a kind of gauche but graceful slogging-through, unconsciously practical and unconsciously philosophical--and that doesn\\'t begin to describe it idiosyncratically enough. The complex of incidents and of Morvern\\'s responses to them are the substance of the book, and its achievement, in exposing a cross-section of existence it would be difficult to illuminate otherwise; for all my dislike of the book, I can see this.<br /><br />The Morvern just described is not the Morvern of the movie; or if it is, most of her is kept offscreen. An actress who might have been a good fit for the character, had she been the right age at the right time, is Angharad Rees, from the old TV series \"Poldark\". Samantha Morton, then, would seem like good casting: she\\'s rather the same sort of actress, and in one of her earlier movies, \"Jesus\\' Son\", she played a girl who with a few adjustments could have been turned into this one. Unfortunately, as the film turned out, she doesn\\'t have the character from the book to play. For one thing, the book is one that, if it is to be dramatized, virtually cries out for monologues by the main character to the audience; without her comments, her perspective, her voice, the story loses most of its meaning. It has lost more of it in that the adaptor has expurgated it of its comic and horrible elements: the most memorable incidents from the book are curtailed before they turn grotty, and so Morvern\\'s responses (whether of amusement or distaste, depending on her mood) are missing too, and the incidents no longer have a reason for being in the story. In short, the filmmaker chose for some reason to turn a brisk, edgy serio-comic novel into a genteel art TV film, and chose as her typical image one of Ms. Morton languishing in a artistically shaded melancholy; as if the outing Morvern signs up for were a tour of the Stations of the Cross. This isn\\'t at all what the book, or the Morvern of the book, was about. For another thing, the Morvern of the movie isn\\'t Scottish (the actress said in an interview she hadn\\'t had time to study up the accent), and she ought to be: it\\'s important that she, her family, and her mates are all from a single place. And finally the film is missing the end of the story: Morvern\\'s spending all she has and coming home to icy darkness: it\\'s winter, the dam has frozen, the power has gone out, and the pub is dark. Minus this, and minus all of the rest, what\\'s left is a failed art film, a dead film, about a subject whose strength lay precisely in her refusal, or native inability, ever to give in to being dead.'\n",
      " b\"John Ford is one of the most influential and best remembered American filmmakers in the history of film, his name usually associated with the western film genre. However, John Ford's arguably best film is not a western at all but a seedy drama set in the Irish fight for independence in the early 1920s: 1935's The Informer.<br /><br />Times are tough on many in Ireland and the burnt out Gypo Nolan is caught in a web of poverty and desperation - and the walls are closing in. Gypo is big but he is not the brightest bulb on the tree, has a warm heart but a short fuse, and never seems to really think things all the way through but he is not a criminal or a self-centered pig. Walking the streets starving with no where to live, the hulking Gypo Nolan finds the prime lady in his life, Katie Madden, on the streets soliciting herself because of her own desperate situation and starts to dream about taking her to the United States if he only had the 20 Pounds to pay for it. As luck would have it, his friend Frankie is back in town with a 20 Pound price over his head and Gypo is desperate enough to inform the police of Frankie's whereabouts. Gypo, with the new 20 Pounds of blood money earned, finds this foggy night particularly foggier as guilt swells all over him and the IRA invests all their resources to find Frankie's informer.<br /><br />Victor McLaglen portrays the fallen Gypo Nolan and definitely deserved the Best Actor Oscar he was awarded for this film. His brutish, stupid, and tender turns give the character dimension and McLaglen is only second to Dudley Moore's character Arthur Bach from the 1981 film Arthur as the most entertaining cinematic drunk. Margot Grahame's performance as Katie Madden is also excellent but she and McLaglen are the only members of the cast who truly impress. Preston Foster is especially miscast as an IRA head, mainly because he is most obviously not Irish, and J. M. Kerrigan borders on irritating throughout his role in the film but this disappointing supporting cast is the film's only poor point.<br /><br />Often overshadowed by some of Ford's better known westerns like The Searchers or The Man Who Shot Liberty Valance, The Informer is easily one of John Ford's best films - if not his very best. Beginning what would be a long career of Oscar nominations and wins for John Ford, The Informer won four Oscars including one for him for best director in 1936. Ford and company's use of shadows and light in the film is particularly engaging and vital to telling the story. Gypo's walk through the streets is narrated by the gloomy state of the town and the glaring accusations of the street lamps, each shadow constantly reminding him of his dark deed. Ford's command of this technique was amazing to watch; if The Informer was made 10 years later (thus making the genre requirements) it would probably be considered one of the best films noir of all time but that does not hinder it from being remembered as an excellent classic film.\"]\n",
      "\n",
      "labels:  [1 0 1]\n"
     ]
    }
   ],
   "source": [
    "for example, label in train_dataset.take(1):\n",
    "  print('texts: ', example.numpy()[:3])\n",
    "  print()\n",
    "  print('labels: ', label.numpy()[:3])\n"
   ]
  },
  {
   "cell_type": "code",
   "execution_count": 13,
   "metadata": {},
   "outputs": [],
   "source": [
    "VOCAB_SIZE = 1000\n",
    "encoder = tf.keras.layers.experimental.preprocessing.TextVectorization(\n",
    "    max_tokens=VOCAB_SIZE)\n",
    "encoder.adapt(train_dataset.map(lambda text, label: text))\n"
   ]
  },
  {
   "cell_type": "code",
   "execution_count": 14,
   "metadata": {},
   "outputs": [
    {
     "data": {
      "text/plain": [
       "array(['', '[UNK]', 'the', 'and', 'a', 'of', 'to', 'is', 'in', 'it', 'i',\n",
       "       'this', 'that', 'br', 'was', 'as', 'for', 'with', 'movie', 'but'],\n",
       "      dtype='<U14')"
      ]
     },
     "execution_count": 14,
     "metadata": {},
     "output_type": "execute_result"
    }
   ],
   "source": [
    "vocab = np.array(encoder.get_vocabulary())\n",
    "vocab[:20]\n"
   ]
  },
  {
   "cell_type": "code",
   "execution_count": 15,
   "metadata": {},
   "outputs": [
    {
     "data": {
      "text/plain": [
       "array([[105, 180,   1, ...,   0,   0,   0],\n",
       "       [ 51,   4,  18, ...,   0,   0,   0],\n",
       "       [298,   1,   7, ...,   0,   0,   0]])"
      ]
     },
     "execution_count": 15,
     "metadata": {},
     "output_type": "execute_result"
    }
   ],
   "source": [
    "encoded_example = encoder(example)[:3].numpy()\n",
    "encoded_example"
   ]
  },
  {
   "cell_type": "code",
   "execution_count": 16,
   "metadata": {},
   "outputs": [
    {
     "name": "stdout",
     "output_type": "stream",
     "text": [
      "Original:  b'Two things haunt you throughout L\\'intrus (The Intruder): who\\'s the intruder and is it a movie or a dream you\\'re watching? The ending is so shocking that for a while you\\'re at a loss for an answer to either of those questions. The intruder pops up as different characters, different men in different circumstances who don\\'t belong in the scene, so they\\'re expelled from it, kindly or brutally, but often without emotional involvement. The main character, Louis, is a contemptible man. He\\'s got rough ways, some mean job and no heart. He needs one and goes after it. He has a heart transplanted and afterwards decides to start a new life. Can this man succeed in his quest for redemption? A guy like that could cut your throat at the drop of a hat. You know it but Claire Denis doesn\\'t encourage you to judge him. Occasionally, there\\'s a young Russian woman -a beautiful girl who seems to inhabit someplace between heaven and earth - who does judge him. She may even punish him. But not Denis. There\\'s the character played by Beatrice Dalle who wants no business with him: don\\'t touch me, she says. But Denis lets this man be himself, films him in his self-absorbed quest. I don\\'t know if what she films is the heart or the mind but it isn\\'t the traditional plot basics. Whatever she films, you get it in the end. You know who\\'s \"the\" intruder, you know why, more or less, and some scenes come back to your mind with their full meaning. But was it a movie or a dream?'\n",
      "Round-trip:  two things [UNK] you throughout [UNK] the [UNK] whos the [UNK] and is it a movie or a dream youre watching the ending is so [UNK] that for a while youre at a [UNK] for an [UNK] to either of those [UNK] the [UNK] [UNK] up as different characters different men in different [UNK] who dont [UNK] in the scene so theyre [UNK] from it [UNK] or [UNK] but often without emotional [UNK] the main character [UNK] is a [UNK] man hes got [UNK] ways some mean job and no heart he needs one and goes after it he has a heart [UNK] and [UNK] [UNK] to start a new life can this man [UNK] in his [UNK] for [UNK] a guy like that could cut your [UNK] at the [UNK] of a [UNK] you know it but [UNK] [UNK] doesnt [UNK] you to [UNK] him [UNK] theres a young [UNK] woman a beautiful girl who seems to [UNK] [UNK] between [UNK] and earth who does [UNK] him she may even [UNK] him but not [UNK] theres the character played by [UNK] [UNK] who wants no business with him dont [UNK] me she says but [UNK] lets this man be himself films him in his [UNK] [UNK] i dont know if what she films is the heart or the mind but it isnt the [UNK] plot [UNK] whatever she films you get it in the end you know whos the [UNK] you know why more or less and some scenes come back to your mind with their full [UNK] but was it a movie or a dream                                                                                                                                                                                                                                                                                                                                                                                                                                                                                                                                                                                                                                                                                                                                                 \n",
      "\n",
      "Original:  b'When a movie of a book seems pointless and incomprehensible, the cause can invariably be found in the book: either it was pointless to start with, or the point is one not easily conveyed to film, or the movie missed the point, which is the most frequent of these results, and the easiest to happen, especially when the point is one not easily defined. The book \"Morvern Callar\" has a point; every reader of the book must have felt this, and felt as if he had gotten it; but I suspect most of them could not state it in words. I\\'m not sure I can, myself, but perhaps it comes to this, or something like it: Things come, things go, such is life, but we carry on; or at any rate some of us--people like Morvern--do. No doubt a more erudite critic could construct a more adequate definition. But the important fact is that there is a point--possibly the sum of the entire story is the point--and that this would have been the main thing to keep in view, and to carry over, in adapting the story to film. The maker of this film evidently missed the point, and doesn\\'t substitute one of her own; and so the film is about nothing.<br /><br />This is not the usual complaint of a book-lover that his favorite text has been violated. The merit of the book is something I conceded grudgingly: in reading it I found it a bloody nuisance, and an occasion for kicking the author in the pants and getting him in to finish the job properly. The narrative is supposed to be the work of the half-educated Morvern, but that illusion is constantly dispelled by a dozen different types of literary effect, as if the author were poking at her with his pen; there are inconsistencies of style and tone, as if different sections had been composed at different times; and any conclusions I could reach about Morvern had to remain tentative because it was uncertain which implications the author intended and which he did not: for instance, despite Morvern\\'s own self-characterization as a raver, am I wrong that in the end she remains essentially a working-class Scots girl, and beneath her wrapping of music downloads not so different from those of generations past? In any case, despite my irritation at the author, I couldn\\'t deny that his book stuck with me; and what I couldn\\'t get out of my head was his character\\'s attitude, her angle on the world, which was almost as vivid as a Goya portrait. Morvern is the kind of person who\\'s always encountering situations at once rather comic and rather horrible; occasionally she invites them but more often they land on her, like flies, so that much of her life consists of a kind of gauche but graceful slogging-through, unconsciously practical and unconsciously philosophical--and that doesn\\'t begin to describe it idiosyncratically enough. The complex of incidents and of Morvern\\'s responses to them are the substance of the book, and its achievement, in exposing a cross-section of existence it would be difficult to illuminate otherwise; for all my dislike of the book, I can see this.<br /><br />The Morvern just described is not the Morvern of the movie; or if it is, most of her is kept offscreen. An actress who might have been a good fit for the character, had she been the right age at the right time, is Angharad Rees, from the old TV series \"Poldark\". Samantha Morton, then, would seem like good casting: she\\'s rather the same sort of actress, and in one of her earlier movies, \"Jesus\\' Son\", she played a girl who with a few adjustments could have been turned into this one. Unfortunately, as the film turned out, she doesn\\'t have the character from the book to play. For one thing, the book is one that, if it is to be dramatized, virtually cries out for monologues by the main character to the audience; without her comments, her perspective, her voice, the story loses most of its meaning. It has lost more of it in that the adaptor has expurgated it of its comic and horrible elements: the most memorable incidents from the book are curtailed before they turn grotty, and so Morvern\\'s responses (whether of amusement or distaste, depending on her mood) are missing too, and the incidents no longer have a reason for being in the story. In short, the filmmaker chose for some reason to turn a brisk, edgy serio-comic novel into a genteel art TV film, and chose as her typical image one of Ms. Morton languishing in a artistically shaded melancholy; as if the outing Morvern signs up for were a tour of the Stations of the Cross. This isn\\'t at all what the book, or the Morvern of the book, was about. For another thing, the Morvern of the movie isn\\'t Scottish (the actress said in an interview she hadn\\'t had time to study up the accent), and she ought to be: it\\'s important that she, her family, and her mates are all from a single place. And finally the film is missing the end of the story: Morvern\\'s spending all she has and coming home to icy darkness: it\\'s winter, the dam has frozen, the power has gone out, and the pub is dark. Minus this, and minus all of the rest, what\\'s left is a failed art film, a dead film, about a subject whose strength lay precisely in her refusal, or native inability, ever to give in to being dead.'\n",
      "Round-trip:  when a movie of a book seems [UNK] and [UNK] the [UNK] can [UNK] be found in the book either it was [UNK] to start with or the point is one not easily [UNK] to film or the movie [UNK] the point which is the most [UNK] of these [UNK] and the [UNK] to happen especially when the point is one not easily [UNK] the book [UNK] [UNK] has a point every [UNK] of the book must have felt this and felt as if he had [UNK] it but i [UNK] most of them could not [UNK] it in words im not sure i can myself but perhaps it comes to this or something like it things come things go such is life but we [UNK] on or at any [UNK] some of [UNK] like [UNK] no doubt a more [UNK] [UNK] could [UNK] a more [UNK] [UNK] but the important fact is that there is a [UNK] the [UNK] of the entire story is the [UNK] that this would have been the main thing to keep in view and to [UNK] over in [UNK] the story to film the [UNK] of this film [UNK] [UNK] the point and doesnt [UNK] one of her own and so the film is about [UNK] br this is not the usual [UNK] of a [UNK] that his favorite [UNK] has been [UNK] the [UNK] of the book is something i [UNK] [UNK] in reading it i found it a [UNK] [UNK] and an [UNK] for [UNK] the [UNK] in the [UNK] and getting him in to [UNK] the job [UNK] the [UNK] is supposed to be the work of the [UNK] [UNK] but that [UNK] is [UNK] [UNK] by a [UNK] different [UNK] of [UNK] effect as if the [UNK] were [UNK] at her with his [UNK] there are [UNK] of style and [UNK] as if different [UNK] had been [UNK] at different times and any [UNK] i could [UNK] about [UNK] had to [UNK] [UNK] because it was [UNK] which [UNK] the [UNK] [UNK] and which he did not for [UNK] despite [UNK] own [UNK] as a [UNK] am i wrong that in the end she [UNK] [UNK] a [UNK] [UNK] girl and [UNK] her [UNK] of music [UNK] not so different from those of [UNK] past in any case despite my [UNK] at the [UNK] i couldnt [UNK] that his book [UNK] with me and what i couldnt get out of my head was his characters [UNK] her [UNK] on the world which was almost as [UNK] as a [UNK] [UNK] [UNK] is the kind of person whos always [UNK] [UNK] at once rather comic and rather horrible [UNK] she [UNK] them but more often they [UNK] on her like [UNK] so that much of her life [UNK] of a kind of [UNK] but [UNK] [UNK] [UNK] [UNK] and [UNK] [UNK] that doesnt begin to [UNK] it [UNK] enough the [UNK] of [UNK] and of [UNK] [UNK] to them are the [UNK] of the book and its [UNK] in [UNK] a [UNK] of [UNK] it would be difficult to [UNK] otherwise for all my [UNK] of the book i can see [UNK] br the [UNK] just [UNK] is not the [UNK] of the movie or if it is most of her is kept [UNK] an actress who might have been a good [UNK] for the character had she been the right age at the right time is [UNK] [UNK] from the old tv series [UNK] [UNK] [UNK] then would seem like good casting shes rather the same sort of actress and in one of her earlier movies [UNK] son she played a girl who with a few [UNK] could have been turned into this one unfortunately as the film turned out she doesnt have the character from the book to play for one thing the book is one that if it is to be [UNK] [UNK] [UNK] out for [UNK] by the main character to the audience without her comments her [UNK] her voice the story [UNK] most of its [UNK] it has lost more of it in that the [UNK] has [UNK] it of its comic and horrible elements the most memorable [UNK] from the book are [UNK] before they turn [UNK] and so [UNK] [UNK] whether of [UNK] or [UNK] [UNK] on her [UNK] are missing too and the [UNK] no [UNK] have a reason for being in the story in short the [UNK] [UNK] for some reason to turn a [UNK] [UNK] [UNK] novel into a [UNK] art tv film and [UNK] as her typical [UNK] one of [UNK] [UNK] [UNK] in a [UNK] [UNK] [UNK] as if the [UNK] [UNK] [UNK] up for were a [UNK] of the [UNK] of the [UNK] this isnt at all what the book or the [UNK] of the book was about for another thing the [UNK] of the movie isnt [UNK] the actress said in an [UNK] she [UNK] had time to [UNK] up the [UNK] and she [UNK] to be its important that she her family and her [UNK] are all from a single place and finally the film is missing the end of the story [UNK] [UNK] all she has and coming home to [UNK] [UNK] its [UNK] the [UNK] has [UNK] the power has gone out and the [UNK] is dark [UNK] this and [UNK] all of the rest whats left is a [UNK] art film a dead film about a subject whose [UNK] [UNK] [UNK] in her [UNK] or [UNK] [UNK] ever to give in to being dead                                                         \n",
      "\n",
      "Original:  b\"John Ford is one of the most influential and best remembered American filmmakers in the history of film, his name usually associated with the western film genre. However, John Ford's arguably best film is not a western at all but a seedy drama set in the Irish fight for independence in the early 1920s: 1935's The Informer.<br /><br />Times are tough on many in Ireland and the burnt out Gypo Nolan is caught in a web of poverty and desperation - and the walls are closing in. Gypo is big but he is not the brightest bulb on the tree, has a warm heart but a short fuse, and never seems to really think things all the way through but he is not a criminal or a self-centered pig. Walking the streets starving with no where to live, the hulking Gypo Nolan finds the prime lady in his life, Katie Madden, on the streets soliciting herself because of her own desperate situation and starts to dream about taking her to the United States if he only had the 20 Pounds to pay for it. As luck would have it, his friend Frankie is back in town with a 20 Pound price over his head and Gypo is desperate enough to inform the police of Frankie's whereabouts. Gypo, with the new 20 Pounds of blood money earned, finds this foggy night particularly foggier as guilt swells all over him and the IRA invests all their resources to find Frankie's informer.<br /><br />Victor McLaglen portrays the fallen Gypo Nolan and definitely deserved the Best Actor Oscar he was awarded for this film. His brutish, stupid, and tender turns give the character dimension and McLaglen is only second to Dudley Moore's character Arthur Bach from the 1981 film Arthur as the most entertaining cinematic drunk. Margot Grahame's performance as Katie Madden is also excellent but she and McLaglen are the only members of the cast who truly impress. Preston Foster is especially miscast as an IRA head, mainly because he is most obviously not Irish, and J. M. Kerrigan borders on irritating throughout his role in the film but this disappointing supporting cast is the film's only poor point.<br /><br />Often overshadowed by some of Ford's better known westerns like The Searchers or The Man Who Shot Liberty Valance, The Informer is easily one of John Ford's best films - if not his very best. Beginning what would be a long career of Oscar nominations and wins for John Ford, The Informer won four Oscars including one for him for best director in 1936. Ford and company's use of shadows and light in the film is particularly engaging and vital to telling the story. Gypo's walk through the streets is narrated by the gloomy state of the town and the glaring accusations of the street lamps, each shadow constantly reminding him of his dark deed. Ford's command of this technique was amazing to watch; if The Informer was made 10 years later (thus making the genre requirements) it would probably be considered one of the best films noir of all time but that does not hinder it from being remembered as an excellent classic film.\"\n",
      "Round-trip:  john [UNK] is one of the most [UNK] and best [UNK] american filmmakers in the history of film his name usually [UNK] with the [UNK] film genre however john [UNK] [UNK] best film is not a [UNK] at all but a [UNK] drama set in the [UNK] fight for [UNK] in the early [UNK] [UNK] the [UNK] br times are [UNK] on many in [UNK] and the [UNK] out [UNK] [UNK] is [UNK] in a [UNK] of [UNK] and [UNK] and the [UNK] are [UNK] in [UNK] is big but he is not the [UNK] [UNK] on the [UNK] has a [UNK] heart but a short [UNK] and never seems to really think things all the way through but he is not a [UNK] or a [UNK] [UNK] [UNK] the [UNK] [UNK] with no where to live the [UNK] [UNK] [UNK] finds the [UNK] lady in his life [UNK] [UNK] on the [UNK] [UNK] herself because of her own [UNK] situation and starts to dream about taking her to the [UNK] [UNK] if he only had the 20 [UNK] to pay for it as [UNK] would have it his friend [UNK] is back in town with a 20 [UNK] [UNK] over his head and [UNK] is [UNK] enough to [UNK] the police of [UNK] [UNK] [UNK] with the new 20 [UNK] of blood money [UNK] finds this [UNK] night particularly [UNK] as [UNK] [UNK] all over him and the [UNK] [UNK] all their [UNK] to find [UNK] [UNK] br [UNK] [UNK] [UNK] the [UNK] [UNK] [UNK] and definitely [UNK] the best actor oscar he was [UNK] for this film his [UNK] stupid and [UNK] turns give the character [UNK] and [UNK] is only second to [UNK] [UNK] character [UNK] [UNK] from the [UNK] film [UNK] as the most entertaining [UNK] [UNK] [UNK] [UNK] performance as [UNK] [UNK] is also excellent but she and [UNK] are the only [UNK] of the cast who truly [UNK] [UNK] [UNK] is especially [UNK] as an [UNK] head [UNK] because he is most obviously not [UNK] and [UNK] [UNK] [UNK] [UNK] on [UNK] throughout his role in the film but this [UNK] supporting cast is the films only poor [UNK] br often [UNK] by some of [UNK] better known [UNK] like the [UNK] or the man who shot [UNK] [UNK] the [UNK] is easily one of john [UNK] best films if not his very best beginning what would be a long career of oscar [UNK] and [UNK] for john [UNK] the [UNK] [UNK] four [UNK] including one for him for best director in [UNK] [UNK] and [UNK] use of [UNK] and light in the film is particularly [UNK] and [UNK] to [UNK] the story [UNK] [UNK] through the [UNK] is [UNK] by the [UNK] [UNK] of the town and the [UNK] [UNK] of the street [UNK] each [UNK] [UNK] [UNK] him of his dark [UNK] [UNK] [UNK] of this [UNK] was amazing to watch if the [UNK] was made 10 years later [UNK] making the genre [UNK] it would probably be [UNK] one of the best films [UNK] of all time but that does not [UNK] it from being [UNK] as an excellent classic film                                                                                                                                                                                                                                                                                                                                                                                                                                                                          \n",
      "\n"
     ]
    }
   ],
   "source": [
    "for n in range(3):\n",
    "  print(\"Original: \", example[n].numpy())\n",
    "  print(\"Round-trip: \", \" \".join(vocab[encoded_example[n]]))\n",
    "  print()\n"
   ]
  },
  {
   "cell_type": "code",
   "execution_count": 22,
   "metadata": {},
   "outputs": [],
   "source": [
    "model = tf.keras.Sequential([\n",
    "    encoder,\n",
    "    tf.keras.layers.Embedding(\n",
    "        input_dim=len(encoder.get_vocabulary()),\n",
    "        output_dim=64,\n",
    "        # Use masking to handle the variable sequence lengths\n",
    "        mask_zero=True),\n",
    "    tf.keras.layers.Bidirectional(tf.keras.layers.LSTM(64)),\n",
    "    tf.keras.layers.Dense(64, activation='relu'),\n",
    "    tf.keras.layers.Dense(1)\n",
    "])\n",
    "\n",
    "model2 = tf.keras.Sequential([\n",
    "    encoder, \n",
    "    tf.keras.layers.Embedding(\n",
    "        input_dim=len(encoder.get_vocabulary()),\n",
    "        output_dim=64,\n",
    "        mask_zero=True),\n",
    "    tf.keras.layers.Bidirectional(tf.keras.layers.GRU(64)),\n",
    "    tf.keras.layers.Dense(64, activation='relu'),\n",
    "    tf.keras.layers.Dense(1)\n",
    "])\n"
   ]
  },
  {
   "cell_type": "code",
   "execution_count": 23,
   "metadata": {},
   "outputs": [
    {
     "name": "stdout",
     "output_type": "stream",
     "text": [
      "[False, True, True, True, True]\n"
     ]
    }
   ],
   "source": [
    "print([layer.supports_masking for layer in model2.layers])\n"
   ]
  },
  {
   "cell_type": "code",
   "execution_count": 24,
   "metadata": {},
   "outputs": [
    {
     "name": "stdout",
     "output_type": "stream",
     "text": [
      "[0.0151789]\n"
     ]
    }
   ],
   "source": [
    "sample_text = ('The movie was cool. The animation and the graphics '\n",
    "               'were out of this world. I would recommend this movie.')\n",
    "predictions = model2.predict(np.array([sample_text]))\n",
    "print(predictions[0])\n"
   ]
  },
  {
   "cell_type": "code",
   "execution_count": 25,
   "metadata": {},
   "outputs": [],
   "source": [
    "model2.compile(loss=tf.keras.losses.BinaryCrossentropy(from_logits=True),\n",
    "              optimizer=tf.keras.optimizers.Adam(1e-4),\n",
    "              metrics=['accuracy'])\n"
   ]
  },
  {
   "cell_type": "code",
   "execution_count": 26,
   "metadata": {},
   "outputs": [
    {
     "name": "stdout",
     "output_type": "stream",
     "text": [
      "Epoch 1/10\n",
      "391/391 [==============================] - 448s 1s/step - loss: 0.6871 - accuracy: 0.5000 - val_loss: 0.6584 - val_accuracy: 0.4917\n",
      "Epoch 2/10\n",
      "391/391 [==============================] - 507s 1s/step - loss: 0.4274 - accuracy: 0.7909 - val_loss: 0.3634 - val_accuracy: 0.8302\n",
      "Epoch 3/10\n",
      "391/391 [==============================] - 510s 1s/step - loss: 0.3357 - accuracy: 0.8544 - val_loss: 0.3360 - val_accuracy: 0.8417\n",
      "Epoch 4/10\n",
      "391/391 [==============================] - 513s 1s/step - loss: 0.3195 - accuracy: 0.8636 - val_loss: 0.3269 - val_accuracy: 0.8516\n",
      "Epoch 5/10\n",
      "346/391 [=========================>....] - ETA: 1:04 - loss: 0.3130 - accuracy: 0.8671"
     ]
    },
    {
     "ename": "KeyboardInterrupt",
     "evalue": "",
     "output_type": "error",
     "traceback": [
      "\u001b[0;31m---------------------------------------------------------------------------\u001b[0m",
      "\u001b[0;31mKeyboardInterrupt\u001b[0m                         Traceback (most recent call last)",
      "\u001b[0;32m<ipython-input-26-a43a6edb468d>\u001b[0m in \u001b[0;36m<module>\u001b[0;34m\u001b[0m\n\u001b[1;32m      1\u001b[0m history = model2.fit(train_dataset, epochs=10,\n\u001b[1;32m      2\u001b[0m                     \u001b[0mvalidation_data\u001b[0m\u001b[0;34m=\u001b[0m\u001b[0mtest_dataset\u001b[0m\u001b[0;34m,\u001b[0m\u001b[0;34m\u001b[0m\u001b[0;34m\u001b[0m\u001b[0m\n\u001b[0;32m----> 3\u001b[0;31m                     validation_steps=30)\n\u001b[0m",
      "\u001b[0;32m/usr/local/lib/python3.6/dist-packages/tensorflow/python/keras/engine/training.py\u001b[0m in \u001b[0;36mfit\u001b[0;34m(self, x, y, batch_size, epochs, verbose, callbacks, validation_split, validation_data, shuffle, class_weight, sample_weight, initial_epoch, steps_per_epoch, validation_steps, validation_batch_size, validation_freq, max_queue_size, workers, use_multiprocessing)\u001b[0m\n\u001b[1;32m   1181\u001b[0m                 _r=1):\n\u001b[1;32m   1182\u001b[0m               \u001b[0mcallbacks\u001b[0m\u001b[0;34m.\u001b[0m\u001b[0mon_train_batch_begin\u001b[0m\u001b[0;34m(\u001b[0m\u001b[0mstep\u001b[0m\u001b[0;34m)\u001b[0m\u001b[0;34m\u001b[0m\u001b[0;34m\u001b[0m\u001b[0m\n\u001b[0;32m-> 1183\u001b[0;31m               \u001b[0mtmp_logs\u001b[0m \u001b[0;34m=\u001b[0m \u001b[0mself\u001b[0m\u001b[0;34m.\u001b[0m\u001b[0mtrain_function\u001b[0m\u001b[0;34m(\u001b[0m\u001b[0miterator\u001b[0m\u001b[0;34m)\u001b[0m\u001b[0;34m\u001b[0m\u001b[0;34m\u001b[0m\u001b[0m\n\u001b[0m\u001b[1;32m   1184\u001b[0m               \u001b[0;32mif\u001b[0m \u001b[0mdata_handler\u001b[0m\u001b[0;34m.\u001b[0m\u001b[0mshould_sync\u001b[0m\u001b[0;34m:\u001b[0m\u001b[0;34m\u001b[0m\u001b[0;34m\u001b[0m\u001b[0m\n\u001b[1;32m   1185\u001b[0m                 \u001b[0mcontext\u001b[0m\u001b[0;34m.\u001b[0m\u001b[0masync_wait\u001b[0m\u001b[0;34m(\u001b[0m\u001b[0;34m)\u001b[0m\u001b[0;34m\u001b[0m\u001b[0;34m\u001b[0m\u001b[0m\n",
      "\u001b[0;32m/usr/local/lib/python3.6/dist-packages/tensorflow/python/eager/def_function.py\u001b[0m in \u001b[0;36m__call__\u001b[0;34m(self, *args, **kwds)\u001b[0m\n\u001b[1;32m    887\u001b[0m \u001b[0;34m\u001b[0m\u001b[0m\n\u001b[1;32m    888\u001b[0m       \u001b[0;32mwith\u001b[0m \u001b[0mOptionalXlaContext\u001b[0m\u001b[0;34m(\u001b[0m\u001b[0mself\u001b[0m\u001b[0;34m.\u001b[0m\u001b[0m_jit_compile\u001b[0m\u001b[0;34m)\u001b[0m\u001b[0;34m:\u001b[0m\u001b[0;34m\u001b[0m\u001b[0;34m\u001b[0m\u001b[0m\n\u001b[0;32m--> 889\u001b[0;31m         \u001b[0mresult\u001b[0m \u001b[0;34m=\u001b[0m \u001b[0mself\u001b[0m\u001b[0;34m.\u001b[0m\u001b[0m_call\u001b[0m\u001b[0;34m(\u001b[0m\u001b[0;34m*\u001b[0m\u001b[0margs\u001b[0m\u001b[0;34m,\u001b[0m \u001b[0;34m**\u001b[0m\u001b[0mkwds\u001b[0m\u001b[0;34m)\u001b[0m\u001b[0;34m\u001b[0m\u001b[0;34m\u001b[0m\u001b[0m\n\u001b[0m\u001b[1;32m    890\u001b[0m \u001b[0;34m\u001b[0m\u001b[0m\n\u001b[1;32m    891\u001b[0m       \u001b[0mnew_tracing_count\u001b[0m \u001b[0;34m=\u001b[0m \u001b[0mself\u001b[0m\u001b[0;34m.\u001b[0m\u001b[0mexperimental_get_tracing_count\u001b[0m\u001b[0;34m(\u001b[0m\u001b[0;34m)\u001b[0m\u001b[0;34m\u001b[0m\u001b[0;34m\u001b[0m\u001b[0m\n",
      "\u001b[0;32m/usr/local/lib/python3.6/dist-packages/tensorflow/python/eager/def_function.py\u001b[0m in \u001b[0;36m_call\u001b[0;34m(self, *args, **kwds)\u001b[0m\n\u001b[1;32m    915\u001b[0m       \u001b[0;31m# In this case we have created variables on the first call, so we run the\u001b[0m\u001b[0;34m\u001b[0m\u001b[0;34m\u001b[0m\u001b[0;34m\u001b[0m\u001b[0m\n\u001b[1;32m    916\u001b[0m       \u001b[0;31m# defunned version which is guaranteed to never create variables.\u001b[0m\u001b[0;34m\u001b[0m\u001b[0;34m\u001b[0m\u001b[0;34m\u001b[0m\u001b[0m\n\u001b[0;32m--> 917\u001b[0;31m       \u001b[0;32mreturn\u001b[0m \u001b[0mself\u001b[0m\u001b[0;34m.\u001b[0m\u001b[0m_stateless_fn\u001b[0m\u001b[0;34m(\u001b[0m\u001b[0;34m*\u001b[0m\u001b[0margs\u001b[0m\u001b[0;34m,\u001b[0m \u001b[0;34m**\u001b[0m\u001b[0mkwds\u001b[0m\u001b[0;34m)\u001b[0m  \u001b[0;31m# pylint: disable=not-callable\u001b[0m\u001b[0;34m\u001b[0m\u001b[0;34m\u001b[0m\u001b[0m\n\u001b[0m\u001b[1;32m    918\u001b[0m     \u001b[0;32melif\u001b[0m \u001b[0mself\u001b[0m\u001b[0;34m.\u001b[0m\u001b[0m_stateful_fn\u001b[0m \u001b[0;32mis\u001b[0m \u001b[0;32mnot\u001b[0m \u001b[0;32mNone\u001b[0m\u001b[0;34m:\u001b[0m\u001b[0;34m\u001b[0m\u001b[0;34m\u001b[0m\u001b[0m\n\u001b[1;32m    919\u001b[0m       \u001b[0;31m# Release the lock early so that multiple threads can perform the call\u001b[0m\u001b[0;34m\u001b[0m\u001b[0;34m\u001b[0m\u001b[0;34m\u001b[0m\u001b[0m\n",
      "\u001b[0;32m/usr/local/lib/python3.6/dist-packages/tensorflow/python/eager/function.py\u001b[0m in \u001b[0;36m__call__\u001b[0;34m(self, *args, **kwargs)\u001b[0m\n\u001b[1;32m   3022\u001b[0m        filtered_flat_args) = self._maybe_define_function(args, kwargs)\n\u001b[1;32m   3023\u001b[0m     return graph_function._call_flat(\n\u001b[0;32m-> 3024\u001b[0;31m         filtered_flat_args, captured_inputs=graph_function.captured_inputs)  # pylint: disable=protected-access\n\u001b[0m\u001b[1;32m   3025\u001b[0m \u001b[0;34m\u001b[0m\u001b[0m\n\u001b[1;32m   3026\u001b[0m   \u001b[0;34m@\u001b[0m\u001b[0mproperty\u001b[0m\u001b[0;34m\u001b[0m\u001b[0;34m\u001b[0m\u001b[0m\n",
      "\u001b[0;32m/usr/local/lib/python3.6/dist-packages/tensorflow/python/eager/function.py\u001b[0m in \u001b[0;36m_call_flat\u001b[0;34m(self, args, captured_inputs, cancellation_manager)\u001b[0m\n\u001b[1;32m   1959\u001b[0m       \u001b[0;31m# No tape is watching; skip to running the function.\u001b[0m\u001b[0;34m\u001b[0m\u001b[0;34m\u001b[0m\u001b[0;34m\u001b[0m\u001b[0m\n\u001b[1;32m   1960\u001b[0m       return self._build_call_outputs(self._inference_function.call(\n\u001b[0;32m-> 1961\u001b[0;31m           ctx, args, cancellation_manager=cancellation_manager))\n\u001b[0m\u001b[1;32m   1962\u001b[0m     forward_backward = self._select_forward_and_backward_functions(\n\u001b[1;32m   1963\u001b[0m         \u001b[0margs\u001b[0m\u001b[0;34m,\u001b[0m\u001b[0;34m\u001b[0m\u001b[0;34m\u001b[0m\u001b[0m\n",
      "\u001b[0;32m/usr/local/lib/python3.6/dist-packages/tensorflow/python/eager/function.py\u001b[0m in \u001b[0;36mcall\u001b[0;34m(self, ctx, args, cancellation_manager)\u001b[0m\n\u001b[1;32m    594\u001b[0m               \u001b[0minputs\u001b[0m\u001b[0;34m=\u001b[0m\u001b[0margs\u001b[0m\u001b[0;34m,\u001b[0m\u001b[0;34m\u001b[0m\u001b[0;34m\u001b[0m\u001b[0m\n\u001b[1;32m    595\u001b[0m               \u001b[0mattrs\u001b[0m\u001b[0;34m=\u001b[0m\u001b[0mattrs\u001b[0m\u001b[0;34m,\u001b[0m\u001b[0;34m\u001b[0m\u001b[0;34m\u001b[0m\u001b[0m\n\u001b[0;32m--> 596\u001b[0;31m               ctx=ctx)\n\u001b[0m\u001b[1;32m    597\u001b[0m         \u001b[0;32melse\u001b[0m\u001b[0;34m:\u001b[0m\u001b[0;34m\u001b[0m\u001b[0;34m\u001b[0m\u001b[0m\n\u001b[1;32m    598\u001b[0m           outputs = execute.execute_with_cancellation(\n",
      "\u001b[0;32m/usr/local/lib/python3.6/dist-packages/tensorflow/python/eager/execute.py\u001b[0m in \u001b[0;36mquick_execute\u001b[0;34m(op_name, num_outputs, inputs, attrs, ctx, name)\u001b[0m\n\u001b[1;32m     58\u001b[0m     \u001b[0mctx\u001b[0m\u001b[0;34m.\u001b[0m\u001b[0mensure_initialized\u001b[0m\u001b[0;34m(\u001b[0m\u001b[0;34m)\u001b[0m\u001b[0;34m\u001b[0m\u001b[0;34m\u001b[0m\u001b[0m\n\u001b[1;32m     59\u001b[0m     tensors = pywrap_tfe.TFE_Py_Execute(ctx._handle, device_name, op_name,\n\u001b[0;32m---> 60\u001b[0;31m                                         inputs, attrs, num_outputs)\n\u001b[0m\u001b[1;32m     61\u001b[0m   \u001b[0;32mexcept\u001b[0m \u001b[0mcore\u001b[0m\u001b[0;34m.\u001b[0m\u001b[0m_NotOkStatusException\u001b[0m \u001b[0;32mas\u001b[0m \u001b[0me\u001b[0m\u001b[0;34m:\u001b[0m\u001b[0;34m\u001b[0m\u001b[0;34m\u001b[0m\u001b[0m\n\u001b[1;32m     62\u001b[0m     \u001b[0;32mif\u001b[0m \u001b[0mname\u001b[0m \u001b[0;32mis\u001b[0m \u001b[0;32mnot\u001b[0m \u001b[0;32mNone\u001b[0m\u001b[0;34m:\u001b[0m\u001b[0;34m\u001b[0m\u001b[0;34m\u001b[0m\u001b[0m\n",
      "\u001b[0;31mKeyboardInterrupt\u001b[0m: "
     ]
    }
   ],
   "source": [
    "history = model2.fit(train_dataset, epochs=10,\n",
    "                    validation_data=test_dataset,\n",
    "                    validation_steps=30)\n"
   ]
  },
  {
   "cell_type": "code",
   "execution_count": null,
   "metadata": {},
   "outputs": [],
   "source": []
  }
 ],
 "metadata": {
  "kernelspec": {
   "display_name": "Python 3",
   "language": "python",
   "name": "python3"
  },
  "language_info": {
   "codemirror_mode": {
    "name": "ipython",
    "version": 3
   },
   "file_extension": ".py",
   "mimetype": "text/x-python",
   "name": "python",
   "nbconvert_exporter": "python",
   "pygments_lexer": "ipython3",
   "version": "3.6.9"
  }
 },
 "nbformat": 4,
 "nbformat_minor": 2
}
