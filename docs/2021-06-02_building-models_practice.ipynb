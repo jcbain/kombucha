{
 "cells": [
  {
   "cell_type": "code",
   "execution_count": 1,
   "metadata": {},
   "outputs": [],
   "source": [
    "import tensorflow as tf\n",
    "from tensorflow import keras\n",
    "from tensorflow.keras import layers"
   ]
  },
  {
   "cell_type": "code",
   "execution_count": 2,
   "metadata": {},
   "outputs": [],
   "source": [
    "inputs = keras.Input(shape=(784,), name='digits')\n",
    "x = layers.Dense(64, activation='relu', name='dense_1')(inputs)\n",
    "x = layers.Dense(64, activation='relu', name='dense_2')(x)\n",
    "outputs = layers.Dense(10, activation='softmax', name='predictions')(x)\n",
    "\n",
    "model = keras.Model(inputs=inputs, outputs=outputs)"
   ]
  },
  {
   "cell_type": "code",
   "execution_count": 3,
   "metadata": {},
   "outputs": [
    {
     "name": "stdout",
     "output_type": "stream",
     "text": [
      "Model: \"model\"\n",
      "_________________________________________________________________\n",
      "Layer (type)                 Output Shape              Param #   \n",
      "=================================================================\n",
      "digits (InputLayer)          [(None, 784)]             0         \n",
      "_________________________________________________________________\n",
      "dense_1 (Dense)              (None, 64)                50240     \n",
      "_________________________________________________________________\n",
      "dense_2 (Dense)              (None, 64)                4160      \n",
      "_________________________________________________________________\n",
      "predictions (Dense)          (None, 10)                650       \n",
      "=================================================================\n",
      "Total params: 55,050\n",
      "Trainable params: 55,050\n",
      "Non-trainable params: 0\n",
      "_________________________________________________________________\n"
     ]
    }
   ],
   "source": [
    "model.summary()"
   ]
  },
  {
   "cell_type": "code",
   "execution_count": 6,
   "metadata": {},
   "outputs": [
    {
     "data": {
      "text/plain": [
       "6"
      ]
     },
     "execution_count": 6,
     "metadata": {},
     "output_type": "execute_result"
    }
   ],
   "source": [
    "len(model.weights)"
   ]
  },
  {
   "cell_type": "code",
   "execution_count": 8,
   "metadata": {},
   "outputs": [
    {
     "name": "stdout",
     "output_type": "stream",
     "text": [
      "Downloading data from https://storage.googleapis.com/tensorflow/tf-keras-datasets/mnist.npz\n",
      "11493376/11490434 [==============================] - 1s 0us/step\n"
     ]
    }
   ],
   "source": [
    "(x_train, y_train), (x_test, y_test) = keras.datasets.mnist.load_data()\n"
   ]
  },
  {
   "cell_type": "code",
   "execution_count": 15,
   "metadata": {},
   "outputs": [],
   "source": [
    "x_train = x_train.reshape(60000, 784).astype('float32') / 255\n",
    "x_test = x_test.reshape(10000, 784).astype('float32') / 255\n",
    "\n",
    "y_train = y_train.astype('float32')\n",
    "y_test = y_test.astype('float32')\n",
    "\n",
    "x_val = x_train[-10000:]\n",
    "y_val = y_train[-10000:]\n",
    "x_train = x_train[:-10000]\n",
    "y_train = y_train[:-10000]"
   ]
  },
  {
   "cell_type": "code",
   "execution_count": 18,
   "metadata": {},
   "outputs": [],
   "source": [
    "model.compile(\n",
    "    optimizer=keras.optimizers.RMSprop(),\n",
    "    loss=keras.losses.SparseCategoricalCrossentropy(),\n",
    "    metrics=[keras.metrics.SparseCategoricalAccuracy()]\n",
    ")"
   ]
  },
  {
   "cell_type": "code",
   "execution_count": 22,
   "metadata": {},
   "outputs": [
    {
     "name": "stdout",
     "output_type": "stream",
     "text": [
      "fit model on training data\n",
      "Epoch 1/10\n",
      "782/782 [==============================] - 3s 4ms/step - loss: 0.1117 - sparse_categorical_accuracy: 0.9662 - val_loss: 0.1192 - val_sparse_categorical_accuracy: 0.9653\n",
      "Epoch 2/10\n",
      "782/782 [==============================] - 3s 3ms/step - loss: 0.0887 - sparse_categorical_accuracy: 0.9732 - val_loss: 0.1156 - val_sparse_categorical_accuracy: 0.9659\n",
      "Epoch 3/10\n",
      "782/782 [==============================] - 3s 3ms/step - loss: 0.0745 - sparse_categorical_accuracy: 0.9779 - val_loss: 0.1123 - val_sparse_categorical_accuracy: 0.9694\n",
      "Epoch 4/10\n",
      "782/782 [==============================] - 3s 4ms/step - loss: 0.0638 - sparse_categorical_accuracy: 0.9810 - val_loss: 0.0980 - val_sparse_categorical_accuracy: 0.9723\n",
      "Epoch 5/10\n",
      "782/782 [==============================] - 3s 4ms/step - loss: 0.0546 - sparse_categorical_accuracy: 0.9829 - val_loss: 0.1100 - val_sparse_categorical_accuracy: 0.9713\n",
      "Epoch 6/10\n",
      "782/782 [==============================] - 3s 3ms/step - loss: 0.0479 - sparse_categorical_accuracy: 0.9851 - val_loss: 0.1008 - val_sparse_categorical_accuracy: 0.9738\n",
      "Epoch 7/10\n",
      "782/782 [==============================] - 3s 3ms/step - loss: 0.0414 - sparse_categorical_accuracy: 0.9877 - val_loss: 0.0990 - val_sparse_categorical_accuracy: 0.9747\n",
      "Epoch 8/10\n",
      "782/782 [==============================] - 3s 4ms/step - loss: 0.0389 - sparse_categorical_accuracy: 0.9879 - val_loss: 0.1045 - val_sparse_categorical_accuracy: 0.9726\n",
      "Epoch 9/10\n",
      "782/782 [==============================] - 3s 3ms/step - loss: 0.0331 - sparse_categorical_accuracy: 0.9899 - val_loss: 0.1054 - val_sparse_categorical_accuracy: 0.9738\n",
      "Epoch 10/10\n",
      "782/782 [==============================] - 3s 4ms/step - loss: 0.0296 - sparse_categorical_accuracy: 0.9906 - val_loss: 0.1231 - val_sparse_categorical_accuracy: 0.9727\n"
     ]
    }
   ],
   "source": [
    "print(\"fit model on training data\")\n",
    "\n",
    "history = model.fit(\n",
    "    x_train, \n",
    "    y_train,\n",
    "    batch_size=64,\n",
    "    epochs=10,\n",
    "    validation_data=(x_val, y_val)\n",
    ")"
   ]
  },
  {
   "cell_type": "code",
   "execution_count": 23,
   "metadata": {},
   "outputs": [
    {
     "data": {
      "text/plain": [
       "{'loss': [0.11170436441898346,\n",
       "  0.08871996402740479,\n",
       "  0.07453838735818863,\n",
       "  0.06378942728042603,\n",
       "  0.05456278845667839,\n",
       "  0.04788126423954964,\n",
       "  0.041368331760168076,\n",
       "  0.03885704278945923,\n",
       "  0.033071208745241165,\n",
       "  0.02962055243551731],\n",
       " 'sparse_categorical_accuracy': [0.9662200212478638,\n",
       "  0.9732400178909302,\n",
       "  0.9778800010681152,\n",
       "  0.9809600114822388,\n",
       "  0.9828799962997437,\n",
       "  0.9850599765777588,\n",
       "  0.9876599907875061,\n",
       "  0.9879000186920166,\n",
       "  0.9899200201034546,\n",
       "  0.9905999898910522],\n",
       " 'val_loss': [0.1191682517528534,\n",
       "  0.11556890606880188,\n",
       "  0.11234419047832489,\n",
       "  0.09803766757249832,\n",
       "  0.10995416343212128,\n",
       "  0.10077831149101257,\n",
       "  0.09902149438858032,\n",
       "  0.10452660173177719,\n",
       "  0.1053541973233223,\n",
       "  0.12307955324649811],\n",
       " 'val_sparse_categorical_accuracy': [0.9653000235557556,\n",
       "  0.9659000039100647,\n",
       "  0.9693999886512756,\n",
       "  0.9722999930381775,\n",
       "  0.9713000059127808,\n",
       "  0.973800003528595,\n",
       "  0.9746999740600586,\n",
       "  0.972599983215332,\n",
       "  0.973800003528595,\n",
       "  0.9726999998092651]}"
      ]
     },
     "execution_count": 23,
     "metadata": {},
     "output_type": "execute_result"
    }
   ],
   "source": [
    "history.history"
   ]
  },
  {
   "cell_type": "code",
   "execution_count": 24,
   "metadata": {},
   "outputs": [
    {
     "name": "stdout",
     "output_type": "stream",
     "text": [
      "79/79 [==============================] - 0s 3ms/step - loss: 0.1160 - sparse_categorical_accuracy: 0.9721\n",
      "[0.11602915078401566, 0.972100019454956]\n"
     ]
    }
   ],
   "source": [
    "results = model.evaluate(x_test, y_test, batch_size=128)\n",
    "print(results)"
   ]
  },
  {
   "cell_type": "code",
   "execution_count": 25,
   "metadata": {},
   "outputs": [],
   "source": [
    "def get_uncompiled_model(): \n",
    "    model = keras.Sequential(\n",
    "        [\n",
    "            layers.Dense(64, activation='relu', name='dense_1', input_shape=(784,)),\n",
    "            layers.Dense(64, activation='relu', name='dense_2'),\n",
    "            layers.Dense(10, activation='softmax', name='predictions')\n",
    "        ]\n",
    "    )\n",
    "    \n",
    "    return model"
   ]
  },
  {
   "cell_type": "code",
   "execution_count": 26,
   "metadata": {},
   "outputs": [],
   "source": [
    "def get_compiled_model():\n",
    "    model = get_uncompiled_model()\n",
    "    model.compile(\n",
    "        optimizer=keras.optimizers.RMSprop(),\n",
    "        loss=keras.losses.SparseCategoricalCrossentropy(),\n",
    "        metrics=[keras.metrics.SparseCategoricalAccuracy()]\n",
    "    )\n",
    "    \n",
    "    return model"
   ]
  },
  {
   "cell_type": "code",
   "execution_count": 27,
   "metadata": {},
   "outputs": [],
   "source": [
    "model = get_compiled_model()"
   ]
  },
  {
   "cell_type": "code",
   "execution_count": 28,
   "metadata": {},
   "outputs": [
    {
     "name": "stdout",
     "output_type": "stream",
     "text": [
      "fit model on training data\n",
      "Epoch 1/10\n",
      "782/782 [==============================] - 3s 4ms/step - loss: 0.3428 - sparse_categorical_accuracy: 0.9043 - val_loss: 0.2164 - val_sparse_categorical_accuracy: 0.9343\n",
      "Epoch 2/10\n",
      "782/782 [==============================] - 3s 3ms/step - loss: 0.1605 - sparse_categorical_accuracy: 0.9524 - val_loss: 0.1401 - val_sparse_categorical_accuracy: 0.9583\n",
      "Epoch 3/10\n",
      "782/782 [==============================] - 3s 4ms/step - loss: 0.1204 - sparse_categorical_accuracy: 0.9642 - val_loss: 0.1145 - val_sparse_categorical_accuracy: 0.9683\n",
      "Epoch 4/10\n",
      "782/782 [==============================] - 3s 3ms/step - loss: 0.0967 - sparse_categorical_accuracy: 0.9709 - val_loss: 0.1072 - val_sparse_categorical_accuracy: 0.9690\n",
      "Epoch 5/10\n",
      "782/782 [==============================] - 3s 4ms/step - loss: 0.0794 - sparse_categorical_accuracy: 0.9757 - val_loss: 0.1003 - val_sparse_categorical_accuracy: 0.9715\n",
      "Epoch 6/10\n",
      "782/782 [==============================] - 3s 4ms/step - loss: 0.0693 - sparse_categorical_accuracy: 0.9788 - val_loss: 0.0994 - val_sparse_categorical_accuracy: 0.9732\n",
      "Epoch 7/10\n",
      "782/782 [==============================] - 3s 4ms/step - loss: 0.0584 - sparse_categorical_accuracy: 0.9821 - val_loss: 0.1042 - val_sparse_categorical_accuracy: 0.9726\n",
      "Epoch 8/10\n",
      "782/782 [==============================] - 3s 3ms/step - loss: 0.0526 - sparse_categorical_accuracy: 0.9852 - val_loss: 0.0996 - val_sparse_categorical_accuracy: 0.9738\n",
      "Epoch 9/10\n",
      "782/782 [==============================] - 3s 3ms/step - loss: 0.0460 - sparse_categorical_accuracy: 0.9867 - val_loss: 0.1028 - val_sparse_categorical_accuracy: 0.9736\n",
      "Epoch 10/10\n",
      "782/782 [==============================] - 3s 3ms/step - loss: 0.0413 - sparse_categorical_accuracy: 0.9879 - val_loss: 0.1249 - val_sparse_categorical_accuracy: 0.9683\n"
     ]
    }
   ],
   "source": [
    "print(\"fit model on training data\")\n",
    "\n",
    "history = model.fit(\n",
    "    x_train, \n",
    "    y_train,\n",
    "    batch_size=64,\n",
    "    epochs=10,\n",
    "    validation_data=(x_val, y_val)\n",
    ")"
   ]
  },
  {
   "cell_type": "code",
   "execution_count": 29,
   "metadata": {},
   "outputs": [
    {
     "name": "stdout",
     "output_type": "stream",
     "text": [
      "Model: \"sequential\"\n",
      "_________________________________________________________________\n",
      "Layer (type)                 Output Shape              Param #   \n",
      "=================================================================\n",
      "dense_1 (Dense)              (None, 64)                50240     \n",
      "_________________________________________________________________\n",
      "dense_2 (Dense)              (None, 64)                4160      \n",
      "_________________________________________________________________\n",
      "predictions (Dense)          (None, 10)                650       \n",
      "=================================================================\n",
      "Total params: 55,050\n",
      "Trainable params: 55,050\n",
      "Non-trainable params: 0\n",
      "_________________________________________________________________\n"
     ]
    }
   ],
   "source": [
    "model.summary()"
   ]
  },
  {
   "cell_type": "code",
   "execution_count": 30,
   "metadata": {},
   "outputs": [
    {
     "name": "stdout",
     "output_type": "stream",
     "text": [
      "79/79 [==============================] - 0s 2ms/step - loss: 0.1185 - sparse_categorical_accuracy: 0.9688\n",
      "[0.11854434758424759, 0.9688000082969666]\n"
     ]
    }
   ],
   "source": [
    "results = model.evaluate(x_test, y_test, batch_size=128)\n",
    "print(results)"
   ]
  },
  {
   "cell_type": "code",
   "execution_count": 31,
   "metadata": {},
   "outputs": [
    {
     "name": "stdout",
     "output_type": "stream",
     "text": [
      "Epoch 1/3\n",
      "782/782 [==============================] - 5s 5ms/step - loss: 0.3405 - sparse_categorical_accuracy: 0.9035\n",
      "Epoch 2/3\n",
      "782/782 [==============================] - 4s 6ms/step - loss: 0.1571 - sparse_categorical_accuracy: 0.9534\n",
      "Epoch 3/3\n",
      "782/782 [==============================] - 4s 6ms/step - loss: 0.1157 - sparse_categorical_accuracy: 0.9652\n",
      "evaluate\n",
      "157/157 [==============================] - 1s 2ms/step - loss: 0.1125 - sparse_categorical_accuracy: 0.9643\n"
     ]
    },
    {
     "data": {
      "text/plain": [
       "{'loss': 0.11245567351579666,\n",
       " 'sparse_categorical_accuracy': 0.9642999768257141}"
      ]
     },
     "execution_count": 31,
     "metadata": {},
     "output_type": "execute_result"
    }
   ],
   "source": [
    "model = get_compiled_model()\n",
    "\n",
    "train_dataset = tf.data.Dataset.from_tensor_slices((x_train, y_train))\n",
    "train_dataset = train_dataset.shuffle(buffer_size=1024).batch(64)\n",
    "\n",
    "test_dataset = tf.data.Dataset.from_tensor_slices((x_test, y_test))\n",
    "test_dataset = test_dataset.batch(64)\n",
    "\n",
    "model.fit(train_dataset, epochs=3)\n",
    "\n",
    "print(\"evaluate\")\n",
    "result = model.evaluate(test_dataset)\n",
    "dict(zip(model.metrics_names, result))"
   ]
  },
  {
   "cell_type": "code",
   "execution_count": 32,
   "metadata": {},
   "outputs": [
    {
     "name": "stdout",
     "output_type": "stream",
     "text": [
      "Epoch 1/10\n",
      "782/782 [==============================] - 4s 5ms/step - loss: 0.3358 - sparse_categorical_accuracy: 0.9059 - val_loss: 0.2897 - val_sparse_categorical_accuracy: 0.9125\n",
      "Epoch 2/10\n",
      "782/782 [==============================] - 4s 5ms/step - loss: 0.1615 - sparse_categorical_accuracy: 0.9522 - val_loss: 0.2119 - val_sparse_categorical_accuracy: 0.9469\n",
      "Epoch 3/10\n",
      "782/782 [==============================] - 4s 5ms/step - loss: 0.1196 - sparse_categorical_accuracy: 0.9648 - val_loss: 0.1697 - val_sparse_categorical_accuracy: 0.9578\n",
      "Epoch 4/10\n",
      "782/782 [==============================] - 4s 5ms/step - loss: 0.0962 - sparse_categorical_accuracy: 0.9712 - val_loss: 0.1673 - val_sparse_categorical_accuracy: 0.9563\n",
      "Epoch 5/10\n",
      "782/782 [==============================] - 4s 5ms/step - loss: 0.0802 - sparse_categorical_accuracy: 0.9763 - val_loss: 0.1560 - val_sparse_categorical_accuracy: 0.9609\n",
      "Epoch 6/10\n",
      "782/782 [==============================] - 4s 5ms/step - loss: 0.0683 - sparse_categorical_accuracy: 0.9793 - val_loss: 0.1983 - val_sparse_categorical_accuracy: 0.9531\n",
      "Epoch 7/10\n",
      "782/782 [==============================] - 4s 5ms/step - loss: 0.0599 - sparse_categorical_accuracy: 0.9817 - val_loss: 0.1305 - val_sparse_categorical_accuracy: 0.9656\n",
      "Epoch 8/10\n",
      "782/782 [==============================] - 4s 4ms/step - loss: 0.0518 - sparse_categorical_accuracy: 0.9846 - val_loss: 0.1500 - val_sparse_categorical_accuracy: 0.9609\n",
      "Epoch 9/10\n",
      "782/782 [==============================] - 4s 5ms/step - loss: 0.0457 - sparse_categorical_accuracy: 0.9859 - val_loss: 0.1481 - val_sparse_categorical_accuracy: 0.9641\n",
      "Epoch 10/10\n",
      "782/782 [==============================] - 4s 5ms/step - loss: 0.0402 - sparse_categorical_accuracy: 0.9874 - val_loss: 0.1463 - val_sparse_categorical_accuracy: 0.9672\n"
     ]
    },
    {
     "data": {
      "text/plain": [
       "<tensorflow.python.keras.callbacks.History at 0x7f4bebfb7860>"
      ]
     },
     "execution_count": 32,
     "metadata": {},
     "output_type": "execute_result"
    }
   ],
   "source": [
    "model = get_compiled_model()\n",
    "\n",
    "train_dataset = tf.data.Dataset.from_tensor_slices((x_train, y_train))\n",
    "train_dataset = train_dataset.shuffle(buffer_size=1024).batch(64)\n",
    "\n",
    "val_dataset = tf.data.Dataset.from_tensor_slices((x_val, y_val))\n",
    "val_dataset = val_dataset.batch(64)\n",
    "\n",
    "model.fit(\n",
    "    train_dataset,\n",
    "    epochs=10,\n",
    "    validation_data=val_dataset,\n",
    "    validation_steps=10\n",
    ")"
   ]
  },
  {
   "cell_type": "code",
   "execution_count": null,
   "metadata": {},
   "outputs": [],
   "source": []
  }
 ],
 "metadata": {
  "kernelspec": {
   "display_name": "Python 3",
   "language": "python",
   "name": "python3"
  },
  "language_info": {
   "codemirror_mode": {
    "name": "ipython",
    "version": 3
   },
   "file_extension": ".py",
   "mimetype": "text/x-python",
   "name": "python",
   "nbconvert_exporter": "python",
   "pygments_lexer": "ipython3",
   "version": "3.6.9"
  }
 },
 "nbformat": 4,
 "nbformat_minor": 2
}
